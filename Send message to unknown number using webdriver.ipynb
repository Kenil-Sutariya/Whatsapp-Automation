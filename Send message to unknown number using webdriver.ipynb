{
 "cells": [
  {
   "cell_type": "code",
   "execution_count": 1,
   "id": "53956dd4",
   "metadata": {},
   "outputs": [],
   "source": [
    "# Question : Solution : How send message to unknown number of list in whatsapp\n",
    "\n",
    "# import these libraries\n",
    "\n",
    "import schedule\n",
    "# Importing traceback to catch xml button not found errors in the future\n",
    "import traceback\n",
    "import time\n",
    "from selenium import webdriver\n",
    "from selenium.webdriver.support.ui import WebDriverWait\n",
    "from selenium.webdriver.support import expected_conditions as EC\n",
    "from selenium.webdriver.common.keys import Keys\n",
    "from selenium.webdriver.common.by import By\n",
    "from selenium.common.exceptions import NoSuchElementException\n",
    "from selenium.webdriver.common.action_chains import ActionChains\n",
    "from selenium.webdriver.chrome.options import Options"
   ]
  },
  {
   "cell_type": "code",
   "execution_count": 2,
   "id": "2bbd853a",
   "metadata": {},
   "outputs": [
    {
     "name": "stderr",
     "output_type": "stream",
     "text": [
      "C:\\Users\\Admin\\AppData\\Local\\Temp/ipykernel_5408/3559561119.py:19: DeprecationWarning: executable_path has been deprecated, please pass in a Service object\n",
      "  browser = webdriver.Chrome(executable_path=chrome_path)\n"
     ]
    },
    {
     "name": "stdout",
     "output_type": "stream",
     "text": [
      "QR scanned\n",
      "Sending message to +916354216414\n"
     ]
    },
    {
     "name": "stderr",
     "output_type": "stream",
     "text": [
      "C:\\Users\\Admin\\AppData\\Local\\Temp/ipykernel_5408/3559561119.py:41: DeprecationWarning: find_element_by_xpath is deprecated. Please use find_element(by=By.XPATH, value=xpath) instead\n",
      "  input_box = browser.find_element_by_xpath('/html/body/div[1]/div[1]/div[1]/div[4]/div[1]/footer/div[1]/div/span[2]/div/div[2]/div[1]/div/div[2]')\n"
     ]
    },
    {
     "name": "stdout",
     "output_type": "stream",
     "text": [
      "Message sent successfully\n",
      "Sending message to +916354216414\n",
      "Message sent successfully\n",
      "Sending message to +916354216414\n",
      "Message sent successfully\n"
     ]
    }
   ],
   "source": [
    "# put your list below as name \"unsaved_Contacts\"\n",
    "unsaved_Contacts = ['+916354216414', '+916354216414', '+916354216414']\n",
    "\n",
    "# if you have text file of contact numbers then uncomment below code. and comment above list.\n",
    "# with open('whatsapp_group_names.txt', 'r', encoding='utf8') as f:\n",
    "#     unsaved_Contacts = [number.strip() for number in f.readlines()]\n",
    "\n",
    "# chromedriver path\n",
    "chrome_path = 'C:/chromedriver/chromedriver/chromedriver.exe'\n",
    "Link = 'https://web.whatsapp.com/'\n",
    "\n",
    "# Reading message that you want to send from msg file.\n",
    "with open('msg.txt', 'r', encoding='utf8') as f:\n",
    "    msg = f.read()\n",
    "    \n",
    "# function for Whatsapp login\n",
    "def whatsapp_login(chrome_path):\n",
    "    global wait, browser\n",
    "    browser = webdriver.Chrome(executable_path=chrome_path)\n",
    "    wait = WebDriverWait(browser, 600)\n",
    "    browser.get(Link)\n",
    "    browser.maximize_window()\n",
    "    print(\"QR scanned\")\n",
    "    \n",
    "# this function will send the message\n",
    "def sender():\n",
    "    if len(unsaved_Contacts) > 0:\n",
    "        for i in unsaved_Contacts:\n",
    "            link = \"https://web.whatsapp.com/send?phone={}&text&source&data&app_absent\".format(i)\n",
    "            # driver  = webdriver.Chrome()\n",
    "            browser.get(link)\n",
    "            print(\"Sending message to\", i)\n",
    "            send_unsaved_contact_message()\n",
    "            time.sleep(4)\n",
    "\n",
    "def send_unsaved_contact_message():\n",
    "    global msg\n",
    "    try:\n",
    "        time.sleep(10)\n",
    "        browser.implicitly_wait(10)\n",
    "        input_box = browser.find_element_by_xpath('/html/body/div[1]/div[1]/div[1]/div[4]/div[1]/footer/div[1]/div/span[2]/div/div[2]/div[1]/div/div[2]')\n",
    "        for ch in msg:\n",
    "            if ch == \"\\n\":\n",
    "                ActionChains(browser).key_down(Keys.SHIFT).key_down(Keys.ENTER).key_up(Keys.ENTER).key_up(\n",
    "                    Keys.SHIFT).key_up(Keys.BACKSPACE).perform()\n",
    "            else:\n",
    "                input_box.send_keys(ch)\n",
    "        input_box.send_keys(Keys.ENTER)\n",
    "        print(\"Message sent successfully\")\n",
    "    except Exception as e:\n",
    "        print(\"Failed to send message exception: \", e)\n",
    "        return\n",
    "    \n",
    "whatsapp_login(chrome_path)\n",
    "sender()\n",
    "browser.quit()"
   ]
  },
  {
   "cell_type": "code",
   "execution_count": null,
   "id": "ecc647e6",
   "metadata": {},
   "outputs": [],
   "source": []
  }
 ],
 "metadata": {
  "kernelspec": {
   "display_name": "Python 3 (ipykernel)",
   "language": "python",
   "name": "python3"
  },
  "language_info": {
   "codemirror_mode": {
    "name": "ipython",
    "version": 3
   },
   "file_extension": ".py",
   "mimetype": "text/x-python",
   "name": "python",
   "nbconvert_exporter": "python",
   "pygments_lexer": "ipython3",
   "version": "3.8.3"
  }
 },
 "nbformat": 4,
 "nbformat_minor": 5
}
